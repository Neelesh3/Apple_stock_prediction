{
  "cells": [
    {
      "cell_type": "markdown",
      "metadata": {
        "id": "view-in-github",
        "colab_type": "text"
      },
      "source": [
        "<a href=\"https://colab.research.google.com/github/Neelesh3/Apple_stock_prediction/blob/main/Stock_Market_Prediction_Model_Creation.ipynb\" target=\"_parent\"><img src=\"https://colab.research.google.com/assets/colab-badge.svg\" alt=\"Open In Colab\"/></a>"
      ]
    },
    {
      "cell_type": "code",
      "execution_count": 1,
      "id": "88d67c13-1dca-451c-85d5-eb234183c342",
      "metadata": {
        "id": "88d67c13-1dca-451c-85d5-eb234183c342"
      },
      "outputs": [],
      "source": [
        "import numpy as np\n",
        "import pandas as pd\n",
        "import matplotlib.pyplot as plt\n",
        "import yfinance as yf"
      ]
    },
    {
      "cell_type": "code",
      "execution_count": 2,
      "id": "f3bc102c-1442-4cae-9093-f77f2b7b7e0c",
      "metadata": {
        "colab": {
          "base_uri": "https://localhost:8080/"
        },
        "id": "f3bc102c-1442-4cae-9093-f77f2b7b7e0c",
        "outputId": "0cc7dc5d-976e-4efb-8dd5-ff725ad49bb3"
      },
      "outputs": [
        {
          "output_type": "stream",
          "name": "stderr",
          "text": [
            "\r[*********************100%***********************]  1 of 1 completed\n"
          ]
        }
      ],
      "source": [
        "start = '2014-01-01'\n",
        "end = '2024-10-30'\n",
        "stock = 'NVDA'\n",
        "\n",
        "data = yf.download(stock, start, end)"
      ]
    },
    {
      "cell_type": "code",
      "execution_count": 3,
      "id": "8657c12a-ec44-4ea9-80c9-7ecbec9b0084",
      "metadata": {
        "id": "8657c12a-ec44-4ea9-80c9-7ecbec9b0084"
      },
      "outputs": [],
      "source": [
        "data.reset_index(inplace=True)"
      ]
    },
    {
      "cell_type": "code",
      "execution_count": 4,
      "id": "e8fadd81-946b-47fc-b014-8ecf059302ce",
      "metadata": {
        "colab": {
          "base_uri": "https://localhost:8080/",
          "height": 455
        },
        "id": "e8fadd81-946b-47fc-b014-8ecf059302ce",
        "outputId": "1cad61b6-1b5f-4aba-8ef5-66ee744464b2"
      },
      "outputs": [
        {
          "output_type": "execute_result",
          "data": {
            "text/plain": [
              "Price                       Date   Adj Close       Close        High  \\\n",
              "Ticker                                  NVDA        NVDA        NVDA   \n",
              "0      2014-01-02 00:00:00+00:00    0.373992    0.396500    0.399500   \n",
              "1      2014-01-03 00:00:00+00:00    0.369512    0.391750    0.398000   \n",
              "2      2014-01-06 00:00:00+00:00    0.374464    0.397000    0.400000   \n",
              "3      2014-01-07 00:00:00+00:00    0.380595    0.403500    0.405000   \n",
              "4      2014-01-08 00:00:00+00:00    0.385782    0.409000    0.411000   \n",
              "...                          ...         ...         ...         ...   \n",
              "2720   2024-10-23 00:00:00+00:00  139.559998  139.559998  142.429993   \n",
              "2721   2024-10-24 00:00:00+00:00  140.410004  140.410004  141.350006   \n",
              "2722   2024-10-25 00:00:00+00:00  141.539993  141.539993  144.130005   \n",
              "2723   2024-10-28 00:00:00+00:00  140.520004  140.520004  143.139999   \n",
              "2724   2024-10-29 00:00:00+00:00  141.250000  141.250000  142.259995   \n",
              "\n",
              "Price          Low        Open     Volume  \n",
              "Ticker        NVDA        NVDA       NVDA  \n",
              "0         0.393000    0.398000  260092000  \n",
              "1         0.390500    0.397250  259332000  \n",
              "2         0.392000    0.395750  409492000  \n",
              "3         0.398250    0.401000  333288000  \n",
              "4         0.403500    0.405000  308192000  \n",
              "...            ...         ...        ...  \n",
              "2720    137.460007  142.029999  285930000  \n",
              "2721    138.460007  140.820007  172354900  \n",
              "2722    140.800003  140.929993  205122100  \n",
              "2723    140.050003  143.000000  173586700  \n",
              "2724    138.899994  140.289993  157593600  \n",
              "\n",
              "[2725 rows x 7 columns]"
            ],
            "text/html": [
              "\n",
              "  <div id=\"df-27eb2f7a-5c62-4e10-9357-fafd31d2faaa\" class=\"colab-df-container\">\n",
              "    <div>\n",
              "<style scoped>\n",
              "    .dataframe tbody tr th:only-of-type {\n",
              "        vertical-align: middle;\n",
              "    }\n",
              "\n",
              "    .dataframe tbody tr th {\n",
              "        vertical-align: top;\n",
              "    }\n",
              "\n",
              "    .dataframe thead tr th {\n",
              "        text-align: left;\n",
              "    }\n",
              "</style>\n",
              "<table border=\"1\" class=\"dataframe\">\n",
              "  <thead>\n",
              "    <tr>\n",
              "      <th>Price</th>\n",
              "      <th>Date</th>\n",
              "      <th>Adj Close</th>\n",
              "      <th>Close</th>\n",
              "      <th>High</th>\n",
              "      <th>Low</th>\n",
              "      <th>Open</th>\n",
              "      <th>Volume</th>\n",
              "    </tr>\n",
              "    <tr>\n",
              "      <th>Ticker</th>\n",
              "      <th></th>\n",
              "      <th>NVDA</th>\n",
              "      <th>NVDA</th>\n",
              "      <th>NVDA</th>\n",
              "      <th>NVDA</th>\n",
              "      <th>NVDA</th>\n",
              "      <th>NVDA</th>\n",
              "    </tr>\n",
              "  </thead>\n",
              "  <tbody>\n",
              "    <tr>\n",
              "      <th>0</th>\n",
              "      <td>2014-01-02 00:00:00+00:00</td>\n",
              "      <td>0.373992</td>\n",
              "      <td>0.396500</td>\n",
              "      <td>0.399500</td>\n",
              "      <td>0.393000</td>\n",
              "      <td>0.398000</td>\n",
              "      <td>260092000</td>\n",
              "    </tr>\n",
              "    <tr>\n",
              "      <th>1</th>\n",
              "      <td>2014-01-03 00:00:00+00:00</td>\n",
              "      <td>0.369512</td>\n",
              "      <td>0.391750</td>\n",
              "      <td>0.398000</td>\n",
              "      <td>0.390500</td>\n",
              "      <td>0.397250</td>\n",
              "      <td>259332000</td>\n",
              "    </tr>\n",
              "    <tr>\n",
              "      <th>2</th>\n",
              "      <td>2014-01-06 00:00:00+00:00</td>\n",
              "      <td>0.374464</td>\n",
              "      <td>0.397000</td>\n",
              "      <td>0.400000</td>\n",
              "      <td>0.392000</td>\n",
              "      <td>0.395750</td>\n",
              "      <td>409492000</td>\n",
              "    </tr>\n",
              "    <tr>\n",
              "      <th>3</th>\n",
              "      <td>2014-01-07 00:00:00+00:00</td>\n",
              "      <td>0.380595</td>\n",
              "      <td>0.403500</td>\n",
              "      <td>0.405000</td>\n",
              "      <td>0.398250</td>\n",
              "      <td>0.401000</td>\n",
              "      <td>333288000</td>\n",
              "    </tr>\n",
              "    <tr>\n",
              "      <th>4</th>\n",
              "      <td>2014-01-08 00:00:00+00:00</td>\n",
              "      <td>0.385782</td>\n",
              "      <td>0.409000</td>\n",
              "      <td>0.411000</td>\n",
              "      <td>0.403500</td>\n",
              "      <td>0.405000</td>\n",
              "      <td>308192000</td>\n",
              "    </tr>\n",
              "    <tr>\n",
              "      <th>...</th>\n",
              "      <td>...</td>\n",
              "      <td>...</td>\n",
              "      <td>...</td>\n",
              "      <td>...</td>\n",
              "      <td>...</td>\n",
              "      <td>...</td>\n",
              "      <td>...</td>\n",
              "    </tr>\n",
              "    <tr>\n",
              "      <th>2720</th>\n",
              "      <td>2024-10-23 00:00:00+00:00</td>\n",
              "      <td>139.559998</td>\n",
              "      <td>139.559998</td>\n",
              "      <td>142.429993</td>\n",
              "      <td>137.460007</td>\n",
              "      <td>142.029999</td>\n",
              "      <td>285930000</td>\n",
              "    </tr>\n",
              "    <tr>\n",
              "      <th>2721</th>\n",
              "      <td>2024-10-24 00:00:00+00:00</td>\n",
              "      <td>140.410004</td>\n",
              "      <td>140.410004</td>\n",
              "      <td>141.350006</td>\n",
              "      <td>138.460007</td>\n",
              "      <td>140.820007</td>\n",
              "      <td>172354900</td>\n",
              "    </tr>\n",
              "    <tr>\n",
              "      <th>2722</th>\n",
              "      <td>2024-10-25 00:00:00+00:00</td>\n",
              "      <td>141.539993</td>\n",
              "      <td>141.539993</td>\n",
              "      <td>144.130005</td>\n",
              "      <td>140.800003</td>\n",
              "      <td>140.929993</td>\n",
              "      <td>205122100</td>\n",
              "    </tr>\n",
              "    <tr>\n",
              "      <th>2723</th>\n",
              "      <td>2024-10-28 00:00:00+00:00</td>\n",
              "      <td>140.520004</td>\n",
              "      <td>140.520004</td>\n",
              "      <td>143.139999</td>\n",
              "      <td>140.050003</td>\n",
              "      <td>143.000000</td>\n",
              "      <td>173586700</td>\n",
              "    </tr>\n",
              "    <tr>\n",
              "      <th>2724</th>\n",
              "      <td>2024-10-29 00:00:00+00:00</td>\n",
              "      <td>141.250000</td>\n",
              "      <td>141.250000</td>\n",
              "      <td>142.259995</td>\n",
              "      <td>138.899994</td>\n",
              "      <td>140.289993</td>\n",
              "      <td>157593600</td>\n",
              "    </tr>\n",
              "  </tbody>\n",
              "</table>\n",
              "<p>2725 rows × 7 columns</p>\n",
              "</div>\n",
              "    <div class=\"colab-df-buttons\">\n",
              "\n",
              "  <div class=\"colab-df-container\">\n",
              "    <button class=\"colab-df-convert\" onclick=\"convertToInteractive('df-27eb2f7a-5c62-4e10-9357-fafd31d2faaa')\"\n",
              "            title=\"Convert this dataframe to an interactive table.\"\n",
              "            style=\"display:none;\">\n",
              "\n",
              "  <svg xmlns=\"http://www.w3.org/2000/svg\" height=\"24px\" viewBox=\"0 -960 960 960\">\n",
              "    <path d=\"M120-120v-720h720v720H120Zm60-500h600v-160H180v160Zm220 220h160v-160H400v160Zm0 220h160v-160H400v160ZM180-400h160v-160H180v160Zm440 0h160v-160H620v160ZM180-180h160v-160H180v160Zm440 0h160v-160H620v160Z\"/>\n",
              "  </svg>\n",
              "    </button>\n",
              "\n",
              "  <style>\n",
              "    .colab-df-container {\n",
              "      display:flex;\n",
              "      gap: 12px;\n",
              "    }\n",
              "\n",
              "    .colab-df-convert {\n",
              "      background-color: #E8F0FE;\n",
              "      border: none;\n",
              "      border-radius: 50%;\n",
              "      cursor: pointer;\n",
              "      display: none;\n",
              "      fill: #1967D2;\n",
              "      height: 32px;\n",
              "      padding: 0 0 0 0;\n",
              "      width: 32px;\n",
              "    }\n",
              "\n",
              "    .colab-df-convert:hover {\n",
              "      background-color: #E2EBFA;\n",
              "      box-shadow: 0px 1px 2px rgba(60, 64, 67, 0.3), 0px 1px 3px 1px rgba(60, 64, 67, 0.15);\n",
              "      fill: #174EA6;\n",
              "    }\n",
              "\n",
              "    .colab-df-buttons div {\n",
              "      margin-bottom: 4px;\n",
              "    }\n",
              "\n",
              "    [theme=dark] .colab-df-convert {\n",
              "      background-color: #3B4455;\n",
              "      fill: #D2E3FC;\n",
              "    }\n",
              "\n",
              "    [theme=dark] .colab-df-convert:hover {\n",
              "      background-color: #434B5C;\n",
              "      box-shadow: 0px 1px 3px 1px rgba(0, 0, 0, 0.15);\n",
              "      filter: drop-shadow(0px 1px 2px rgba(0, 0, 0, 0.3));\n",
              "      fill: #FFFFFF;\n",
              "    }\n",
              "  </style>\n",
              "\n",
              "    <script>\n",
              "      const buttonEl =\n",
              "        document.querySelector('#df-27eb2f7a-5c62-4e10-9357-fafd31d2faaa button.colab-df-convert');\n",
              "      buttonEl.style.display =\n",
              "        google.colab.kernel.accessAllowed ? 'block' : 'none';\n",
              "\n",
              "      async function convertToInteractive(key) {\n",
              "        const element = document.querySelector('#df-27eb2f7a-5c62-4e10-9357-fafd31d2faaa');\n",
              "        const dataTable =\n",
              "          await google.colab.kernel.invokeFunction('convertToInteractive',\n",
              "                                                    [key], {});\n",
              "        if (!dataTable) return;\n",
              "\n",
              "        const docLinkHtml = 'Like what you see? Visit the ' +\n",
              "          '<a target=\"_blank\" href=https://colab.research.google.com/notebooks/data_table.ipynb>data table notebook</a>'\n",
              "          + ' to learn more about interactive tables.';\n",
              "        element.innerHTML = '';\n",
              "        dataTable['output_type'] = 'display_data';\n",
              "        await google.colab.output.renderOutput(dataTable, element);\n",
              "        const docLink = document.createElement('div');\n",
              "        docLink.innerHTML = docLinkHtml;\n",
              "        element.appendChild(docLink);\n",
              "      }\n",
              "    </script>\n",
              "  </div>\n",
              "\n",
              "\n",
              "<div id=\"df-bcb9cfe7-0b78-4542-9a83-a6ae63b2d74f\">\n",
              "  <button class=\"colab-df-quickchart\" onclick=\"quickchart('df-bcb9cfe7-0b78-4542-9a83-a6ae63b2d74f')\"\n",
              "            title=\"Suggest charts\"\n",
              "            style=\"display:none;\">\n",
              "\n",
              "<svg xmlns=\"http://www.w3.org/2000/svg\" height=\"24px\"viewBox=\"0 0 24 24\"\n",
              "     width=\"24px\">\n",
              "    <g>\n",
              "        <path d=\"M19 3H5c-1.1 0-2 .9-2 2v14c0 1.1.9 2 2 2h14c1.1 0 2-.9 2-2V5c0-1.1-.9-2-2-2zM9 17H7v-7h2v7zm4 0h-2V7h2v10zm4 0h-2v-4h2v4z\"/>\n",
              "    </g>\n",
              "</svg>\n",
              "  </button>\n",
              "\n",
              "<style>\n",
              "  .colab-df-quickchart {\n",
              "      --bg-color: #E8F0FE;\n",
              "      --fill-color: #1967D2;\n",
              "      --hover-bg-color: #E2EBFA;\n",
              "      --hover-fill-color: #174EA6;\n",
              "      --disabled-fill-color: #AAA;\n",
              "      --disabled-bg-color: #DDD;\n",
              "  }\n",
              "\n",
              "  [theme=dark] .colab-df-quickchart {\n",
              "      --bg-color: #3B4455;\n",
              "      --fill-color: #D2E3FC;\n",
              "      --hover-bg-color: #434B5C;\n",
              "      --hover-fill-color: #FFFFFF;\n",
              "      --disabled-bg-color: #3B4455;\n",
              "      --disabled-fill-color: #666;\n",
              "  }\n",
              "\n",
              "  .colab-df-quickchart {\n",
              "    background-color: var(--bg-color);\n",
              "    border: none;\n",
              "    border-radius: 50%;\n",
              "    cursor: pointer;\n",
              "    display: none;\n",
              "    fill: var(--fill-color);\n",
              "    height: 32px;\n",
              "    padding: 0;\n",
              "    width: 32px;\n",
              "  }\n",
              "\n",
              "  .colab-df-quickchart:hover {\n",
              "    background-color: var(--hover-bg-color);\n",
              "    box-shadow: 0 1px 2px rgba(60, 64, 67, 0.3), 0 1px 3px 1px rgba(60, 64, 67, 0.15);\n",
              "    fill: var(--button-hover-fill-color);\n",
              "  }\n",
              "\n",
              "  .colab-df-quickchart-complete:disabled,\n",
              "  .colab-df-quickchart-complete:disabled:hover {\n",
              "    background-color: var(--disabled-bg-color);\n",
              "    fill: var(--disabled-fill-color);\n",
              "    box-shadow: none;\n",
              "  }\n",
              "\n",
              "  .colab-df-spinner {\n",
              "    border: 2px solid var(--fill-color);\n",
              "    border-color: transparent;\n",
              "    border-bottom-color: var(--fill-color);\n",
              "    animation:\n",
              "      spin 1s steps(1) infinite;\n",
              "  }\n",
              "\n",
              "  @keyframes spin {\n",
              "    0% {\n",
              "      border-color: transparent;\n",
              "      border-bottom-color: var(--fill-color);\n",
              "      border-left-color: var(--fill-color);\n",
              "    }\n",
              "    20% {\n",
              "      border-color: transparent;\n",
              "      border-left-color: var(--fill-color);\n",
              "      border-top-color: var(--fill-color);\n",
              "    }\n",
              "    30% {\n",
              "      border-color: transparent;\n",
              "      border-left-color: var(--fill-color);\n",
              "      border-top-color: var(--fill-color);\n",
              "      border-right-color: var(--fill-color);\n",
              "    }\n",
              "    40% {\n",
              "      border-color: transparent;\n",
              "      border-right-color: var(--fill-color);\n",
              "      border-top-color: var(--fill-color);\n",
              "    }\n",
              "    60% {\n",
              "      border-color: transparent;\n",
              "      border-right-color: var(--fill-color);\n",
              "    }\n",
              "    80% {\n",
              "      border-color: transparent;\n",
              "      border-right-color: var(--fill-color);\n",
              "      border-bottom-color: var(--fill-color);\n",
              "    }\n",
              "    90% {\n",
              "      border-color: transparent;\n",
              "      border-bottom-color: var(--fill-color);\n",
              "    }\n",
              "  }\n",
              "</style>\n",
              "\n",
              "  <script>\n",
              "    async function quickchart(key) {\n",
              "      const quickchartButtonEl =\n",
              "        document.querySelector('#' + key + ' button');\n",
              "      quickchartButtonEl.disabled = true;  // To prevent multiple clicks.\n",
              "      quickchartButtonEl.classList.add('colab-df-spinner');\n",
              "      try {\n",
              "        const charts = await google.colab.kernel.invokeFunction(\n",
              "            'suggestCharts', [key], {});\n",
              "      } catch (error) {\n",
              "        console.error('Error during call to suggestCharts:', error);\n",
              "      }\n",
              "      quickchartButtonEl.classList.remove('colab-df-spinner');\n",
              "      quickchartButtonEl.classList.add('colab-df-quickchart-complete');\n",
              "    }\n",
              "    (() => {\n",
              "      let quickchartButtonEl =\n",
              "        document.querySelector('#df-bcb9cfe7-0b78-4542-9a83-a6ae63b2d74f button');\n",
              "      quickchartButtonEl.style.display =\n",
              "        google.colab.kernel.accessAllowed ? 'block' : 'none';\n",
              "    })();\n",
              "  </script>\n",
              "</div>\n",
              "\n",
              "  <div id=\"id_810cfcb1-5f40-45d0-a9a7-7d4cc4ad93b2\">\n",
              "    <style>\n",
              "      .colab-df-generate {\n",
              "        background-color: #E8F0FE;\n",
              "        border: none;\n",
              "        border-radius: 50%;\n",
              "        cursor: pointer;\n",
              "        display: none;\n",
              "        fill: #1967D2;\n",
              "        height: 32px;\n",
              "        padding: 0 0 0 0;\n",
              "        width: 32px;\n",
              "      }\n",
              "\n",
              "      .colab-df-generate:hover {\n",
              "        background-color: #E2EBFA;\n",
              "        box-shadow: 0px 1px 2px rgba(60, 64, 67, 0.3), 0px 1px 3px 1px rgba(60, 64, 67, 0.15);\n",
              "        fill: #174EA6;\n",
              "      }\n",
              "\n",
              "      [theme=dark] .colab-df-generate {\n",
              "        background-color: #3B4455;\n",
              "        fill: #D2E3FC;\n",
              "      }\n",
              "\n",
              "      [theme=dark] .colab-df-generate:hover {\n",
              "        background-color: #434B5C;\n",
              "        box-shadow: 0px 1px 3px 1px rgba(0, 0, 0, 0.15);\n",
              "        filter: drop-shadow(0px 1px 2px rgba(0, 0, 0, 0.3));\n",
              "        fill: #FFFFFF;\n",
              "      }\n",
              "    </style>\n",
              "    <button class=\"colab-df-generate\" onclick=\"generateWithVariable('data')\"\n",
              "            title=\"Generate code using this dataframe.\"\n",
              "            style=\"display:none;\">\n",
              "\n",
              "  <svg xmlns=\"http://www.w3.org/2000/svg\" height=\"24px\"viewBox=\"0 0 24 24\"\n",
              "       width=\"24px\">\n",
              "    <path d=\"M7,19H8.4L18.45,9,17,7.55,7,17.6ZM5,21V16.75L18.45,3.32a2,2,0,0,1,2.83,0l1.4,1.43a1.91,1.91,0,0,1,.58,1.4,1.91,1.91,0,0,1-.58,1.4L9.25,21ZM18.45,9,17,7.55Zm-12,3A5.31,5.31,0,0,0,4.9,8.1,5.31,5.31,0,0,0,1,6.5,5.31,5.31,0,0,0,4.9,4.9,5.31,5.31,0,0,0,6.5,1,5.31,5.31,0,0,0,8.1,4.9,5.31,5.31,0,0,0,12,6.5,5.46,5.46,0,0,0,6.5,12Z\"/>\n",
              "  </svg>\n",
              "    </button>\n",
              "    <script>\n",
              "      (() => {\n",
              "      const buttonEl =\n",
              "        document.querySelector('#id_810cfcb1-5f40-45d0-a9a7-7d4cc4ad93b2 button.colab-df-generate');\n",
              "      buttonEl.style.display =\n",
              "        google.colab.kernel.accessAllowed ? 'block' : 'none';\n",
              "\n",
              "      buttonEl.onclick = () => {\n",
              "        google.colab.notebook.generateWithVariable('data');\n",
              "      }\n",
              "      })();\n",
              "    </script>\n",
              "  </div>\n",
              "\n",
              "    </div>\n",
              "  </div>\n"
            ],
            "application/vnd.google.colaboratory.intrinsic+json": {
              "type": "dataframe",
              "variable_name": "data",
              "summary": "{\n  \"name\": \"data\",\n  \"rows\": 2725,\n  \"fields\": [\n    {\n      \"column\": [\n        \"Date\",\n        \"\"\n      ],\n      \"properties\": {\n        \"dtype\": \"date\",\n        \"min\": \"2014-01-02 00:00:00+00:00\",\n        \"max\": \"2024-10-29 00:00:00+00:00\",\n        \"num_unique_values\": 2725,\n        \"samples\": [\n          \"2022-11-07 00:00:00+00:00\",\n          \"2019-05-07 00:00:00+00:00\",\n          \"2019-08-21 00:00:00+00:00\"\n        ],\n        \"semantic_type\": \"\",\n        \"description\": \"\"\n      }\n    },\n    {\n      \"column\": [\n        \"Adj Close\",\n        \"NVDA\"\n      ],\n      \"properties\": {\n        \"dtype\": \"number\",\n        \"std\": 27.665272382389396,\n        \"min\": 0.36220163106918335,\n        \"max\": 143.7100067138672,\n        \"num_unique_values\": 2645,\n        \"samples\": [\n          4.86624813079834,\n          48.320377349853516,\n          6.172708988189697\n        ],\n        \"semantic_type\": \"\",\n        \"description\": \"\"\n      }\n    },\n    {\n      \"column\": [\n        \"Close\",\n        \"NVDA\"\n      ],\n      \"properties\": {\n        \"dtype\": \"number\",\n        \"std\": 27.659978762736745,\n        \"min\": 0.3840000033378601,\n        \"max\": 143.7100067138672,\n        \"num_unique_values\": 2553,\n        \"samples\": [\n          17.85099983215332,\n          2.859499931335449,\n          26.198999404907227\n        ],\n        \"semantic_type\": \"\",\n        \"description\": \"\"\n      }\n    },\n    {\n      \"column\": [\n        \"High\",\n        \"NVDA\"\n      ],\n      \"properties\": {\n        \"dtype\": \"number\",\n        \"std\": 28.19047408434927,\n        \"min\": 0.3880000114440918,\n        \"max\": 144.4199981689453,\n        \"num_unique_values\": 2537,\n        \"samples\": [\n          13.571999549865723,\n          0.5132499933242798,\n          1.096500039100647\n        ],\n        \"semantic_type\": \"\",\n        \"description\": \"\"\n      }\n    },\n    {\n      \"column\": [\n        \"Low\",\n        \"NVDA\"\n      ],\n      \"properties\": {\n        \"dtype\": \"number\",\n        \"std\": 27.076886800385537,\n        \"min\": 0.382999986410141,\n        \"max\": 141.77999877929688,\n        \"num_unique_values\": 2542,\n        \"samples\": [\n          12.717000007629395,\n          3.8304998874664307,\n          1.3209999799728394\n        ],\n        \"semantic_type\": \"\",\n        \"description\": \"\"\n      }\n    },\n    {\n      \"column\": [\n        \"Open\",\n        \"NVDA\"\n      ],\n      \"properties\": {\n        \"dtype\": \"number\",\n        \"std\": 27.6699671676424,\n        \"min\": 0.3857499957084656,\n        \"max\": 143.0,\n        \"num_unique_values\": 2524,\n        \"samples\": [\n          84.4489974975586,\n          6.044000148773193,\n          13.142499923706055\n        ],\n        \"semantic_type\": \"\",\n        \"description\": \"\"\n      }\n    },\n    {\n      \"column\": [\n        \"Volume\",\n        \"NVDA\"\n      ],\n      \"properties\": {\n        \"dtype\": \"number\",\n        \"std\": 250390378,\n        \"min\": 45644000,\n        \"max\": 3692928000,\n        \"num_unique_values\": 2711,\n        \"samples\": [\n          206228500,\n          899420000,\n          333588000\n        ],\n        \"semantic_type\": \"\",\n        \"description\": \"\"\n      }\n    }\n  ]\n}"
            }
          },
          "metadata": {},
          "execution_count": 4
        }
      ],
      "source": [
        "data"
      ]
    },
    {
      "cell_type": "code",
      "execution_count": 5,
      "id": "8a478e83-6aee-4809-9405-be6f8b65b16a",
      "metadata": {
        "id": "8a478e83-6aee-4809-9405-be6f8b65b16a"
      },
      "outputs": [],
      "source": [
        "ma_100_days = data.Close.rolling(100).mean()"
      ]
    },
    {
      "cell_type": "code",
      "execution_count": 6,
      "id": "fc840124-ef3e-40b0-9e74-aa5a174c4c50",
      "metadata": {
        "colab": {
          "base_uri": "https://localhost:8080/",
          "height": 522
        },
        "id": "fc840124-ef3e-40b0-9e74-aa5a174c4c50",
        "outputId": "c82cdd32-c2ac-4db3-8b15-9608bd1c0884"
      },
      "outputs": [
        {
          "output_type": "display_data",
          "data": {
            "text/plain": [
              "<Figure size 800x600 with 1 Axes>"
            ],
            "image/png": "[encoded data removed]"
          },
          "metadata": {}
        }
      ],
      "source": [
        "plt.figure(figsize=(8,6))\n",
        "plt.plot(ma_100_days, 'r')\n",
        "plt.plot(data.Close, 'g')\n",
        "plt.show()"
      ]
    },
    {
      "cell_type": "code",
      "execution_count": 8,
      "id": "1158c05f-1a2c-41f8-8add-85720074cdcd",
      "metadata": {
        "id": "1158c05f-1a2c-41f8-8add-85720074cdcd"
      },
      "outputs": [],
      "source": [
        "ma_200_days = data.Close.rolling(200).mean()"
      ]
    },
    {
      "cell_type": "code",
      "execution_count": 9,
      "id": "97a1b79b-2302-43d7-883a-a0a255c864bf",
      "metadata": {
        "colab": {
          "base_uri": "https://localhost:8080/",
          "height": 522
        },
        "id": "97a1b79b-2302-43d7-883a-a0a255c864bf",
        "outputId": "5ebe6ca5-631f-462c-954b-a87dd8071411"
      },
      "outputs": [
        {
          "output_type": "display_data",
          "data": {
            "text/plain": [
              "<Figure size 800x600 with 1 Axes>"
            ],
            "image/png": "[encoded data removed]"
          },
          "metadata": {}
        }
      ],
      "source": [
        "plt.figure(figsize=(8,6))\n",
        "plt.plot(ma_100_days, 'r')\n",
        "plt.plot(ma_200_days,'b')\n",
        "plt.plot(data.Close,'g')\n",
        "plt.show()"
      ]
    },
    {
      "cell_type": "code",
      "execution_count": 10,
      "id": "0ac073de-1a30-487c-a1f8-c809cbba06db",
      "metadata": {
        "id": "0ac073de-1a30-487c-a1f8-c809cbba06db"
      },
      "outputs": [],
      "source": [
        "data.dropna(inplace=True)"
      ]
    },
    {
      "cell_type": "code",
      "execution_count": 11,
      "id": "64246466-177b-46f9-b4eb-6ee5005bfd6b",
      "metadata": {
        "id": "64246466-177b-46f9-b4eb-6ee5005bfd6b"
      },
      "outputs": [],
      "source": [
        "data_train = pd.DataFrame(data.Close[0: int(len(data)*0.80)])\n",
        "data_test = pd.DataFrame(data.Close[int(len(data)*0.80): len(data)])"
      ]
    },
    {
      "cell_type": "code",
      "execution_count": 12,
      "id": "0f4c0b4b-2b5e-4f62-bd84-47a86ed3da3e",
      "metadata": {
        "colab": {
          "base_uri": "https://localhost:8080/"
        },
        "id": "0f4c0b4b-2b5e-4f62-bd84-47a86ed3da3e",
        "outputId": "242550ae-ec2d-4a3b-f311-e636852efbd8"
      },
      "outputs": [
        {
          "output_type": "execute_result",
          "data": {
            "text/plain": [
              "2180"
            ]
          },
          "metadata": {},
          "execution_count": 12
        }
      ],
      "source": [
        "data_train.shape[0]"
      ]
    },
    {
      "cell_type": "code",
      "execution_count": 13,
      "id": "0a609554-633d-4edf-abc1-21bd874a3cd1",
      "metadata": {
        "colab": {
          "base_uri": "https://localhost:8080/"
        },
        "id": "0a609554-633d-4edf-abc1-21bd874a3cd1",
        "outputId": "870555a6-6d7c-4f09-f0d8-64e28ffd99c9"
      },
      "outputs": [
        {
          "output_type": "execute_result",
          "data": {
            "text/plain": [
              "545"
            ]
          },
          "metadata": {},
          "execution_count": 13
        }
      ],
      "source": [
        "data_test.shape[0]"
      ]
    },
    {
      "cell_type": "code",
      "execution_count": 14,
      "id": "d5144e93-eab7-479f-9fde-9bf8c5786dc6",
      "metadata": {
        "id": "d5144e93-eab7-479f-9fde-9bf8c5786dc6"
      },
      "outputs": [],
      "source": [
        "from sklearn.preprocessing import MinMaxScaler\n",
        "scaler = MinMaxScaler(feature_range=(0,1))"
      ]
    },
    {
      "cell_type": "code",
      "execution_count": 15,
      "id": "4c2793bd-1def-45f7-8fd2-9115eed1c2c1",
      "metadata": {
        "id": "4c2793bd-1def-45f7-8fd2-9115eed1c2c1"
      },
      "outputs": [],
      "source": [
        "data_train_scale = scaler.fit_transform(data_train)"
      ]
    },
    {
      "cell_type": "code",
      "execution_count": 16,
      "id": "d55d63c2-132a-40b5-9398-e576ceba14fd",
      "metadata": {
        "id": "d55d63c2-132a-40b5-9398-e576ceba14fd"
      },
      "outputs": [],
      "source": [
        "x = []\n",
        "y = []\n",
        "\n",
        "for i in range(100, data_train_scale.shape[0]):\n",
        "    x.append(data_train_scale[i-100:i])\n",
        "    y.append(data_train_scale[i,0])\n",
        ""
      ]
    },
    {
      "cell_type": "code",
      "execution_count": 17,
      "id": "998369e6-f1ad-4cf5-af58-0aa5b7aa315c",
      "metadata": {
        "id": "998369e6-f1ad-4cf5-af58-0aa5b7aa315c"
      },
      "outputs": [],
      "source": [
        "x, y = np.array(x), np.array(y)"
      ]
    },
    {
      "cell_type": "code",
      "execution_count": 18,
      "id": "3c9c6717-e792-4206-960f-0689203555ca",
      "metadata": {
        "id": "3c9c6717-e792-4206-960f-0689203555ca"
      },
      "outputs": [],
      "source": [
        "from keras.layers import Dense, Dropout, LSTM\n",
        "from keras.models import Sequential"
      ]
    },
    {
      "cell_type": "code",
      "execution_count": 19,
      "id": "14867cd4-c1ed-4cf9-b339-245bfaec0852",
      "metadata": {
        "colab": {
          "base_uri": "https://localhost:8080/"
        },
        "id": "14867cd4-c1ed-4cf9-b339-245bfaec0852",
        "outputId": "a6e3fb64-2a98-47a5-cda1-8b2afbccd3c3"
      },
      "outputs": [
        {
          "output_type": "stream",
          "name": "stderr",
          "text": [
            "/usr/local/lib/python3.10/dist-packages/keras/src/layers/rnn/rnn.py:204: UserWarning: Do not pass an `input_shape`/`input_dim` argument to a layer. When using Sequential models, prefer using an `Input(shape)` object as the first layer in the model instead.\n",
            "  super().__init__(**kwargs)\n"
          ]
        }
      ],
      "source": [
        "model = Sequential()\n",
        "model.add(LSTM(units = 50, activation = 'relu', return_sequences = True,\n",
        "               input_shape = ((x.shape[1],1))))\n",
        "model.add(Dropout(0.2))\n",
        "\n",
        "model.add(LSTM(units = 60, activation='relu', return_sequences = True))\n",
        "model.add(Dropout(0.3))\n",
        "\n",
        "model.add(LSTM(units = 80, activation = 'relu', return_sequences = True))\n",
        "model.add(Dropout(0.4))\n",
        "\n",
        "model.add(LSTM(units = 120, activation = 'relu'))\n",
        "model.add(Dropout(0.5))\n",
        "\n",
        "model.add(Dense(units =1))"
      ]
    },
    {
      "cell_type": "code",
      "execution_count": 20,
      "id": "c69edcc2-b11d-4702-8a6c-f6a6e677e79a",
      "metadata": {
        "id": "c69edcc2-b11d-4702-8a6c-f6a6e677e79a"
      },
      "outputs": [],
      "source": [
        "model.compile(optimizer = 'adam', loss = 'mean_squared_error')"
      ]
    },
    {
      "cell_type": "code",
      "execution_count": 21,
      "id": "f36e439a-0106-4108-9630-7cdd7e5428e4",
      "metadata": {
        "colab": {
          "base_uri": "https://localhost:8080/"
        },
        "id": "f36e439a-0106-4108-9630-7cdd7e5428e4",
        "outputId": "7a5a82b8-62cc-4173-fa9b-e7b259491726"
      },
      "outputs": [
        {
          "output_type": "stream",
          "name": "stdout",
          "text": [
            "Epoch 1/50\n",
            "\u001b[1m65/65\u001b[0m \u001b[32m━━━━━━━━━━━━━━━━━━━━\u001b[0m\u001b[37m\u001b[0m \u001b[1m21s\u001b[0m 255ms/step - loss: 0.0405\n",
            "Epoch 2/50\n",
            "\u001b[1m65/65\u001b[0m \u001b[32m━━━━━━━━━━━━━━━━━━━━\u001b[0m\u001b[37m\u001b[0m \u001b[1m21s\u001b[0m 267ms/step - loss: 0.0039\n",
            "Epoch 3/50\n",
            "\u001b[1m65/65\u001b[0m \u001b[32m━━━━━━━━━━━━━━━━━━━━\u001b[0m\u001b[37m\u001b[0m \u001b[1m16s\u001b[0m 251ms/step - loss: 0.0045\n",
            "Epoch 4/50\n",
            "\u001b[1m65/65\u001b[0m \u001b[32m━━━━━━━━━━━━━━━━━━━━\u001b[0m\u001b[37m\u001b[0m \u001b[1m16s\u001b[0m 250ms/step - loss: 0.0055\n",
            "Epoch 5/50\n",
            "\u001b[1m65/65\u001b[0m \u001b[32m━━━━━━━━━━━━━━━━━━━━\u001b[0m\u001b[37m\u001b[0m \u001b[1m22s\u001b[0m 278ms/step - loss: 0.0030\n",
            "Epoch 6/50\n",
            "\u001b[1m65/65\u001b[0m \u001b[32m━━━━━━━━━━━━━━━━━━━━\u001b[0m\u001b[37m\u001b[0m \u001b[1m16s\u001b[0m 251ms/step - loss: 0.0033\n",
            "Epoch 7/50\n",
            "\u001b[1m65/65\u001b[0m \u001b[32m━━━━━━━━━━━━━━━━━━━━\u001b[0m\u001b[37m\u001b[0m \u001b[1m21s\u001b[0m 252ms/step - loss: 0.0028\n",
            "Epoch 8/50\n",
            "\u001b[1m65/65\u001b[0m \u001b[32m━━━━━━━━━━━━━━━━━━━━\u001b[0m\u001b[37m\u001b[0m \u001b[1m20s\u001b[0m 250ms/step - loss: 0.0034\n",
            "Epoch 9/50\n",
            "\u001b[1m65/65\u001b[0m \u001b[32m━━━━━━━━━━━━━━━━━━━━\u001b[0m\u001b[37m\u001b[0m \u001b[1m20s\u001b[0m 246ms/step - loss: 0.0029\n",
            "Epoch 10/50\n",
            "\u001b[1m65/65\u001b[0m \u001b[32m━━━━━━━━━━━━━━━━━━━━\u001b[0m\u001b[37m\u001b[0m \u001b[1m18s\u001b[0m 270ms/step - loss: 0.0032\n",
            "Epoch 11/50\n",
            "\u001b[1m65/65\u001b[0m \u001b[32m━━━━━━━━━━━━━━━━━━━━\u001b[0m\u001b[37m\u001b[0m \u001b[1m19s\u001b[0m 244ms/step - loss: 0.0040\n",
            "Epoch 12/50\n",
            "\u001b[1m65/65\u001b[0m \u001b[32m━━━━━━━━━━━━━━━━━━━━\u001b[0m\u001b[37m\u001b[0m \u001b[1m22s\u001b[0m 268ms/step - loss: 0.0027\n",
            "Epoch 13/50\n",
            "\u001b[1m65/65\u001b[0m \u001b[32m━━━━━━━━━━━━━━━━━━━━\u001b[0m\u001b[37m\u001b[0m \u001b[1m21s\u001b[0m 276ms/step - loss: 0.0029\n",
            "Epoch 14/50\n",
            "\u001b[1m65/65\u001b[0m \u001b[32m━━━━━━━━━━━━━━━━━━━━\u001b[0m\u001b[37m\u001b[0m \u001b[1m20s\u001b[0m 265ms/step - loss: 0.0031\n",
            "Epoch 15/50\n",
            "\u001b[1m65/65\u001b[0m \u001b[32m━━━━━━━━━━━━━━━━━━━━\u001b[0m\u001b[37m\u001b[0m \u001b[1m16s\u001b[0m 253ms/step - loss: 0.0026\n",
            "Epoch 16/50\n",
            "\u001b[1m65/65\u001b[0m \u001b[32m━━━━━━━━━━━━━━━━━━━━\u001b[0m\u001b[37m\u001b[0m \u001b[1m20s\u001b[0m 253ms/step - loss: 0.0022\n",
            "Epoch 17/50\n",
            "\u001b[1m65/65\u001b[0m \u001b[32m━━━━━━━━━━━━━━━━━━━━\u001b[0m\u001b[37m\u001b[0m \u001b[1m20s\u001b[0m 250ms/step - loss: 0.0032\n",
            "Epoch 18/50\n",
            "\u001b[1m65/65\u001b[0m \u001b[32m━━━━━━━━━━━━━━━━━━━━\u001b[0m\u001b[37m\u001b[0m \u001b[1m16s\u001b[0m 252ms/step - loss: 0.0026\n",
            "Epoch 19/50\n",
            "\u001b[1m65/65\u001b[0m \u001b[32m━━━━━━━━━━━━━━━━━━━━\u001b[0m\u001b[37m\u001b[0m \u001b[1m20s\u001b[0m 250ms/step - loss: 0.0023\n",
            "Epoch 20/50\n",
            "\u001b[1m65/65\u001b[0m \u001b[32m━━━━━━━━━━━━━━━━━━━━\u001b[0m\u001b[37m\u001b[0m \u001b[1m19s\u001b[0m 290ms/step - loss: 0.0027\n",
            "Epoch 21/50\n",
            "\u001b[1m65/65\u001b[0m \u001b[32m━━━━━━━━━━━━━━━━━━━━\u001b[0m\u001b[37m\u001b[0m \u001b[1m19s\u001b[0m 261ms/step - loss: 0.0027\n",
            "Epoch 22/50\n",
            "\u001b[1m65/65\u001b[0m \u001b[32m━━━━━━━━━━━━━━━━━━━━\u001b[0m\u001b[37m\u001b[0m \u001b[1m17s\u001b[0m 263ms/step - loss: 0.0025\n",
            "Epoch 23/50\n",
            "\u001b[1m65/65\u001b[0m \u001b[32m━━━━━━━━━━━━━━━━━━━━\u001b[0m\u001b[37m\u001b[0m \u001b[1m19s\u001b[0m 248ms/step - loss: 0.0028\n",
            "Epoch 24/50\n",
            "\u001b[1m65/65\u001b[0m \u001b[32m━━━━━━━━━━━━━━━━━━━━\u001b[0m\u001b[37m\u001b[0m \u001b[1m16s\u001b[0m 251ms/step - loss: 0.0022\n",
            "Epoch 25/50\n",
            "\u001b[1m65/65\u001b[0m \u001b[32m━━━━━━━━━━━━━━━━━━━━\u001b[0m\u001b[37m\u001b[0m \u001b[1m20s\u001b[0m 249ms/step - loss: 0.0021\n",
            "Epoch 26/50\n",
            "\u001b[1m65/65\u001b[0m \u001b[32m━━━━━━━━━━━━━━━━━━━━\u001b[0m\u001b[37m\u001b[0m \u001b[1m16s\u001b[0m 249ms/step - loss: 0.0024\n",
            "Epoch 27/50\n",
            "\u001b[1m65/65\u001b[0m \u001b[32m━━━━━━━━━━━━━━━━━━━━\u001b[0m\u001b[37m\u001b[0m \u001b[1m17s\u001b[0m 255ms/step - loss: 0.0022\n",
            "Epoch 28/50\n",
            "\u001b[1m65/65\u001b[0m \u001b[32m━━━━━━━━━━━━━━━━━━━━\u001b[0m\u001b[37m\u001b[0m \u001b[1m18s\u001b[0m 274ms/step - loss: 0.0025\n",
            "Epoch 29/50\n",
            "\u001b[1m65/65\u001b[0m \u001b[32m━━━━━━━━━━━━━━━━━━━━\u001b[0m\u001b[37m\u001b[0m \u001b[1m19s\u001b[0m 253ms/step - loss: 0.0024\n",
            "Epoch 30/50\n",
            "\u001b[1m65/65\u001b[0m \u001b[32m━━━━━━━━━━━━━━━━━━━━\u001b[0m\u001b[37m\u001b[0m \u001b[1m24s\u001b[0m 310ms/step - loss: 0.0022\n",
            "Epoch 31/50\n",
            "\u001b[1m65/65\u001b[0m \u001b[32m━━━━━━━━━━━━━━━━━━━━\u001b[0m\u001b[37m\u001b[0m \u001b[1m17s\u001b[0m 252ms/step - loss: 0.0017\n",
            "Epoch 32/50\n",
            "\u001b[1m65/65\u001b[0m \u001b[32m━━━━━━━━━━━━━━━━━━━━\u001b[0m\u001b[37m\u001b[0m \u001b[1m22s\u001b[0m 272ms/step - loss: 0.0024\n",
            "Epoch 33/50\n",
            "\u001b[1m65/65\u001b[0m \u001b[32m━━━━━━━━━━━━━━━━━━━━\u001b[0m\u001b[37m\u001b[0m \u001b[1m19s\u001b[0m 252ms/step - loss: 0.0020\n",
            "Epoch 34/50\n",
            "\u001b[1m65/65\u001b[0m \u001b[32m━━━━━━━━━━━━━━━━━━━━\u001b[0m\u001b[37m\u001b[0m \u001b[1m22s\u001b[0m 278ms/step - loss: 0.0021\n",
            "Epoch 35/50\n",
            "\u001b[1m65/65\u001b[0m \u001b[32m━━━━━━━━━━━━━━━━━━━━\u001b[0m\u001b[37m\u001b[0m \u001b[1m16s\u001b[0m 253ms/step - loss: 0.0019\n",
            "Epoch 36/50\n",
            "\u001b[1m65/65\u001b[0m \u001b[32m━━━━━━━━━━━━━━━━━━━━\u001b[0m\u001b[37m\u001b[0m \u001b[1m20s\u001b[0m 252ms/step - loss: 0.0021\n",
            "Epoch 37/50\n",
            "\u001b[1m65/65\u001b[0m \u001b[32m━━━━━━━━━━━━━━━━━━━━\u001b[0m\u001b[37m\u001b[0m \u001b[1m18s\u001b[0m 282ms/step - loss: 0.0020\n",
            "Epoch 38/50\n",
            "\u001b[1m65/65\u001b[0m \u001b[32m━━━━━━━━━━━━━━━━━━━━\u001b[0m\u001b[37m\u001b[0m \u001b[1m16s\u001b[0m 249ms/step - loss: 0.0019\n",
            "Epoch 39/50\n",
            "\u001b[1m65/65\u001b[0m \u001b[32m━━━━━━━━━━━━━━━━━━━━\u001b[0m\u001b[37m\u001b[0m \u001b[1m21s\u001b[0m 260ms/step - loss: 0.0026\n",
            "Epoch 40/50\n",
            "\u001b[1m65/65\u001b[0m \u001b[32m━━━━━━━━━━━━━━━━━━━━\u001b[0m\u001b[37m\u001b[0m \u001b[1m18s\u001b[0m 274ms/step - loss: 0.0028\n",
            "Epoch 41/50\n",
            "\u001b[1m65/65\u001b[0m \u001b[32m━━━━━━━━━━━━━━━━━━━━\u001b[0m\u001b[37m\u001b[0m \u001b[1m19s\u001b[0m 250ms/step - loss: 0.0017\n",
            "Epoch 42/50\n",
            "\u001b[1m65/65\u001b[0m \u001b[32m━━━━━━━━━━━━━━━━━━━━\u001b[0m\u001b[37m\u001b[0m \u001b[1m22s\u001b[0m 277ms/step - loss: 0.0020\n",
            "Epoch 43/50\n",
            "\u001b[1m65/65\u001b[0m \u001b[32m━━━━━━━━━━━━━━━━━━━━\u001b[0m\u001b[37m\u001b[0m \u001b[1m19s\u001b[0m 253ms/step - loss: 0.0017\n",
            "Epoch 44/50\n",
            "\u001b[1m65/65\u001b[0m \u001b[32m━━━━━━━━━━━━━━━━━━━━\u001b[0m\u001b[37m\u001b[0m \u001b[1m22s\u001b[0m 280ms/step - loss: 0.0024\n",
            "Epoch 45/50\n",
            "\u001b[1m65/65\u001b[0m \u001b[32m━━━━━━━━━━━━━━━━━━━━\u001b[0m\u001b[37m\u001b[0m \u001b[1m19s\u001b[0m 254ms/step - loss: 0.0019\n",
            "Epoch 46/50\n",
            "\u001b[1m65/65\u001b[0m \u001b[32m━━━━━━━━━━━━━━━━━━━━\u001b[0m\u001b[37m\u001b[0m \u001b[1m18s\u001b[0m 279ms/step - loss: 0.0025\n",
            "Epoch 47/50\n",
            "\u001b[1m65/65\u001b[0m \u001b[32m━━━━━━━━━━━━━━━━━━━━\u001b[0m\u001b[37m\u001b[0m \u001b[1m18s\u001b[0m 278ms/step - loss: 0.0019\n",
            "Epoch 48/50\n",
            "\u001b[1m65/65\u001b[0m \u001b[32m━━━━━━━━━━━━━━━━━━━━\u001b[0m\u001b[37m\u001b[0m \u001b[1m19s\u001b[0m 250ms/step - loss: 0.0017\n",
            "Epoch 49/50\n",
            "\u001b[1m65/65\u001b[0m \u001b[32m━━━━━━━━━━━━━━━━━━━━\u001b[0m\u001b[37m\u001b[0m \u001b[1m22s\u001b[0m 277ms/step - loss: 0.0018\n",
            "Epoch 50/50\n",
            "\u001b[1m65/65\u001b[0m \u001b[32m━━━━━━━━━━━━━━━━━━━━\u001b[0m\u001b[37m\u001b[0m \u001b[1m19s\u001b[0m 253ms/step - loss: 0.0019\n"
          ]
        },
        {
          "output_type": "execute_result",
          "data": {
            "text/plain": [
              "<keras.src.callbacks.history.History at 0x7ccc07214f40>"
            ]
          },
          "metadata": {},
          "execution_count": 21
        }
      ],
      "source": [
        "model.fit(x,y, epochs = 50, batch_size =32, verbose =1)"
      ]
    },
    {
      "cell_type": "code",
      "execution_count": 22,
      "id": "62f9decd-83a6-4c03-8963-dc3298b2a104",
      "metadata": {
        "colab": {
          "base_uri": "https://localhost:8080/",
          "height": 433
        },
        "id": "62f9decd-83a6-4c03-8963-dc3298b2a104",
        "outputId": "80fd05c2-2139-4a5d-e23c-c68139894e22"
      },
      "outputs": [
        {
          "output_type": "display_data",
          "data": {
            "text/plain": [
              "\u001b[1mModel: \"sequential\"\u001b[0m\n"
            ],
            "text/html": [
              "<pre style=\"white-space:pre;overflow-x:auto;line-height:normal;font-family:Menlo,'DejaVu Sans Mono',consolas,'Courier New',monospace\"><span style=\"font-weight: bold\">Model: \"sequential\"</span>\n",
              "</pre>\n"
            ]
          },
          "metadata": {}
        },
        {
          "output_type": "display_data",
          "data": {
            "text/plain": [
              "┏━━━━━━━━━━━━━━━━━━━━━━━━━━━━━━━━━━━━━━┳━━━━━━━━━━━━━━━━━━━━━━━━━━━━━┳━━━━━━━━━━━━━━━━━┓\n",
              "┃\u001b[1m \u001b[0m\u001b[1mLayer (type)                        \u001b[0m\u001b[1m \u001b[0m┃\u001b[1m \u001b[0m\u001b[1mOutput Shape               \u001b[0m\u001b[1m \u001b[0m┃\u001b[1m \u001b[0m\u001b[1m        Param #\u001b[0m\u001b[1m \u001b[0m┃\n",
              "┡━━━━━━━━━━━━━━━━━━━━━━━━━━━━━━━━━━━━━━╇━━━━━━━━━━━━━━━━━━━━━━━━━━━━━╇━━━━━━━━━━━━━━━━━┩\n",
              "│ lstm (\u001b[38;5;33mLSTM\u001b[0m)                          │ (\u001b[38;5;45mNone\u001b[0m, \u001b[38;5;34m100\u001b[0m, \u001b[38;5;34m50\u001b[0m)             │          \u001b[38;5;34m10,400\u001b[0m │\n",
              "├──────────────────────────────────────┼─────────────────────────────┼─────────────────┤\n",
              "│ dropout (\u001b[38;5;33mDropout\u001b[0m)                    │ (\u001b[38;5;45mNone\u001b[0m, \u001b[38;5;34m100\u001b[0m, \u001b[38;5;34m50\u001b[0m)             │               \u001b[38;5;34m0\u001b[0m │\n",
              "├──────────────────────────────────────┼─────────────────────────────┼─────────────────┤\n",
              "│ lstm_1 (\u001b[38;5;33mLSTM\u001b[0m)                        │ (\u001b[38;5;45mNone\u001b[0m, \u001b[38;5;34m100\u001b[0m, \u001b[38;5;34m60\u001b[0m)             │          \u001b[38;5;34m26,640\u001b[0m │\n",
              "├──────────────────────────────────────┼─────────────────────────────┼─────────────────┤\n",
              "│ dropout_1 (\u001b[38;5;33mDropout\u001b[0m)                  │ (\u001b[38;5;45mNone\u001b[0m, \u001b[38;5;34m100\u001b[0m, \u001b[38;5;34m60\u001b[0m)             │               \u001b[38;5;34m0\u001b[0m │\n",
              "├──────────────────────────────────────┼─────────────────────────────┼─────────────────┤\n",
              "│ lstm_2 (\u001b[38;5;33mLSTM\u001b[0m)                        │ (\u001b[38;5;45mNone\u001b[0m, \u001b[38;5;34m100\u001b[0m, \u001b[38;5;34m80\u001b[0m)             │          \u001b[38;5;34m45,120\u001b[0m │\n",
              "├──────────────────────────────────────┼─────────────────────────────┼─────────────────┤\n",
              "│ dropout_2 (\u001b[38;5;33mDropout\u001b[0m)                  │ (\u001b[38;5;45mNone\u001b[0m, \u001b[38;5;34m100\u001b[0m, \u001b[38;5;34m80\u001b[0m)             │               \u001b[38;5;34m0\u001b[0m │\n",
              "├──────────────────────────────────────┼─────────────────────────────┼─────────────────┤\n",
              "│ lstm_3 (\u001b[38;5;33mLSTM\u001b[0m)                        │ (\u001b[38;5;45mNone\u001b[0m, \u001b[38;5;34m120\u001b[0m)                 │          \u001b[38;5;34m96,480\u001b[0m │\n",
              "├──────────────────────────────────────┼─────────────────────────────┼─────────────────┤\n",
              "│ dropout_3 (\u001b[38;5;33mDropout\u001b[0m)                  │ (\u001b[38;5;45mNone\u001b[0m, \u001b[38;5;34m120\u001b[0m)                 │               \u001b[38;5;34m0\u001b[0m │\n",
              "├──────────────────────────────────────┼─────────────────────────────┼─────────────────┤\n",
              "│ dense (\u001b[38;5;33mDense\u001b[0m)                        │ (\u001b[38;5;45mNone\u001b[0m, \u001b[38;5;34m1\u001b[0m)                   │             \u001b[38;5;34m121\u001b[0m │\n",
              "└──────────────────────────────────────┴─────────────────────────────┴─────────────────┘\n"
            ],
            "text/html": [
              "<pre style=\"white-space:pre;overflow-x:auto;line-height:normal;font-family:Menlo,'DejaVu Sans Mono',consolas,'Courier New',monospace\">┏━━━━━━━━━━━━━━━━━━━━━━━━━━━━━━━━━━━━━━┳━━━━━━━━━━━━━━━━━━━━━━━━━━━━━┳━━━━━━━━━━━━━━━━━┓\n",
              "┃<span style=\"font-weight: bold\"> Layer (type)                         </span>┃<span style=\"font-weight: bold\"> Output Shape                </span>┃<span style=\"font-weight: bold\">         Param # </span>┃\n",
              "┡━━━━━━━━━━━━━━━━━━━━━━━━━━━━━━━━━━━━━━╇━━━━━━━━━━━━━━━━━━━━━━━━━━━━━╇━━━━━━━━━━━━━━━━━┩\n",
              "│ lstm (<span style=\"color: #0087ff; text-decoration-color: #0087ff\">LSTM</span>)                          │ (<span style=\"color: #00d7ff; text-decoration-color: #00d7ff\">None</span>, <span style=\"color: #00af00; text-decoration-color: #00af00\">100</span>, <span style=\"color: #00af00; text-decoration-color: #00af00\">50</span>)             │          <span style=\"color: #00af00; text-decoration-color: #00af00\">10,400</span> │\n",
              "├──────────────────────────────────────┼─────────────────────────────┼─────────────────┤\n",
              "│ dropout (<span style=\"color: #0087ff; text-decoration-color: #0087ff\">Dropout</span>)                    │ (<span style=\"color: #00d7ff; text-decoration-color: #00d7ff\">None</span>, <span style=\"color: #00af00; text-decoration-color: #00af00\">100</span>, <span style=\"color: #00af00; text-decoration-color: #00af00\">50</span>)             │               <span style=\"color: #00af00; text-decoration-color: #00af00\">0</span> │\n",
              "├──────────────────────────────────────┼─────────────────────────────┼─────────────────┤\n",
              "│ lstm_1 (<span style=\"color: #0087ff; text-decoration-color: #0087ff\">LSTM</span>)                        │ (<span style=\"color: #00d7ff; text-decoration-color: #00d7ff\">None</span>, <span style=\"color: #00af00; text-decoration-color: #00af00\">100</span>, <span style=\"color: #00af00; text-decoration-color: #00af00\">60</span>)             │          <span style=\"color: #00af00; text-decoration-color: #00af00\">26,640</span> │\n",
              "├──────────────────────────────────────┼─────────────────────────────┼─────────────────┤\n",
              "│ dropout_1 (<span style=\"color: #0087ff; text-decoration-color: #0087ff\">Dropout</span>)                  │ (<span style=\"color: #00d7ff; text-decoration-color: #00d7ff\">None</span>, <span style=\"color: #00af00; text-decoration-color: #00af00\">100</span>, <span style=\"color: #00af00; text-decoration-color: #00af00\">60</span>)             │               <span style=\"color: #00af00; text-decoration-color: #00af00\">0</span> │\n",
              "├──────────────────────────────────────┼─────────────────────────────┼─────────────────┤\n",
              "│ lstm_2 (<span style=\"color: #0087ff; text-decoration-color: #0087ff\">LSTM</span>)                        │ (<span style=\"color: #00d7ff; text-decoration-color: #00d7ff\">None</span>, <span style=\"color: #00af00; text-decoration-color: #00af00\">100</span>, <span style=\"color: #00af00; text-decoration-color: #00af00\">80</span>)             │          <span style=\"color: #00af00; text-decoration-color: #00af00\">45,120</span> │\n",
              "├──────────────────────────────────────┼─────────────────────────────┼─────────────────┤\n",
              "│ dropout_2 (<span style=\"color: #0087ff; text-decoration-color: #0087ff\">Dropout</span>)                  │ (<span style=\"color: #00d7ff; text-decoration-color: #00d7ff\">None</span>, <span style=\"color: #00af00; text-decoration-color: #00af00\">100</span>, <span style=\"color: #00af00; text-decoration-color: #00af00\">80</span>)             │               <span style=\"color: #00af00; text-decoration-color: #00af00\">0</span> │\n",
              "├──────────────────────────────────────┼─────────────────────────────┼─────────────────┤\n",
              "│ lstm_3 (<span style=\"color: #0087ff; text-decoration-color: #0087ff\">LSTM</span>)                        │ (<span style=\"color: #00d7ff; text-decoration-color: #00d7ff\">None</span>, <span style=\"color: #00af00; text-decoration-color: #00af00\">120</span>)                 │          <span style=\"color: #00af00; text-decoration-color: #00af00\">96,480</span> │\n",
              "├──────────────────────────────────────┼─────────────────────────────┼─────────────────┤\n",
              "│ dropout_3 (<span style=\"color: #0087ff; text-decoration-color: #0087ff\">Dropout</span>)                  │ (<span style=\"color: #00d7ff; text-decoration-color: #00d7ff\">None</span>, <span style=\"color: #00af00; text-decoration-color: #00af00\">120</span>)                 │               <span style=\"color: #00af00; text-decoration-color: #00af00\">0</span> │\n",
              "├──────────────────────────────────────┼─────────────────────────────┼─────────────────┤\n",
              "│ dense (<span style=\"color: #0087ff; text-decoration-color: #0087ff\">Dense</span>)                        │ (<span style=\"color: #00d7ff; text-decoration-color: #00d7ff\">None</span>, <span style=\"color: #00af00; text-decoration-color: #00af00\">1</span>)                   │             <span style=\"color: #00af00; text-decoration-color: #00af00\">121</span> │\n",
              "└──────────────────────────────────────┴─────────────────────────────┴─────────────────┘\n",
              "</pre>\n"
            ]
          },
          "metadata": {}
        },
        {
          "output_type": "display_data",
          "data": {
            "text/plain": [
              "\u001b[1m Total params: \u001b[0m\u001b[38;5;34m536,285\u001b[0m (2.05 MB)\n"
            ],
            "text/html": [
              "<pre style=\"white-space:pre;overflow-x:auto;line-height:normal;font-family:Menlo,'DejaVu Sans Mono',consolas,'Courier New',monospace\"><span style=\"font-weight: bold\"> Total params: </span><span style=\"color: #00af00; text-decoration-color: #00af00\">536,285</span> (2.05 MB)\n",
              "</pre>\n"
            ]
          },
          "metadata": {}
        },
        {
          "output_type": "display_data",
          "data": {
            "text/plain": [
              "\u001b[1m Trainable params: \u001b[0m\u001b[38;5;34m178,761\u001b[0m (698.29 KB)\n"
            ],
            "text/html": [
              "<pre style=\"white-space:pre;overflow-x:auto;line-height:normal;font-family:Menlo,'DejaVu Sans Mono',consolas,'Courier New',monospace\"><span style=\"font-weight: bold\"> Trainable params: </span><span style=\"color: #00af00; text-decoration-color: #00af00\">178,761</span> (698.29 KB)\n",
              "</pre>\n"
            ]
          },
          "metadata": {}
        },
        {
          "output_type": "display_data",
          "data": {
            "text/plain": [
              "\u001b[1m Non-trainable params: \u001b[0m\u001b[38;5;34m0\u001b[0m (0.00 B)\n"
            ],
            "text/html": [
              "<pre style=\"white-space:pre;overflow-x:auto;line-height:normal;font-family:Menlo,'DejaVu Sans Mono',consolas,'Courier New',monospace\"><span style=\"font-weight: bold\"> Non-trainable params: </span><span style=\"color: #00af00; text-decoration-color: #00af00\">0</span> (0.00 B)\n",
              "</pre>\n"
            ]
          },
          "metadata": {}
        },
        {
          "output_type": "display_data",
          "data": {
            "text/plain": [
              "\u001b[1m Optimizer params: \u001b[0m\u001b[38;5;34m357,524\u001b[0m (1.36 MB)\n"
            ],
            "text/html": [
              "<pre style=\"white-space:pre;overflow-x:auto;line-height:normal;font-family:Menlo,'DejaVu Sans Mono',consolas,'Courier New',monospace\"><span style=\"font-weight: bold\"> Optimizer params: </span><span style=\"color: #00af00; text-decoration-color: #00af00\">357,524</span> (1.36 MB)\n",
              "</pre>\n"
            ]
          },
          "metadata": {}
        }
      ],
      "source": [
        "model.summary()"
      ]
    },
    {
      "cell_type": "code",
      "execution_count": 23,
      "id": "89cf9dc7-4e14-4c80-82bc-d6dcac8c98a2",
      "metadata": {
        "id": "89cf9dc7-4e14-4c80-82bc-d6dcac8c98a2"
      },
      "outputs": [],
      "source": [
        "pas_100_days = data_train.tail(100)"
      ]
    },
    {
      "cell_type": "code",
      "execution_count": 24,
      "id": "67ef7a1e-63cc-4874-9b61-634026572822",
      "metadata": {
        "id": "67ef7a1e-63cc-4874-9b61-634026572822"
      },
      "outputs": [],
      "source": [
        "data_test = pd.concat([pas_100_days, data_test], ignore_index=True)"
      ]
    },
    {
      "cell_type": "code",
      "execution_count": 25,
      "id": "7a0512e4-0eaf-4137-b61d-8bb0e48ca041",
      "metadata": {
        "id": "7a0512e4-0eaf-4137-b61d-8bb0e48ca041"
      },
      "outputs": [],
      "source": [
        "data_test_scale  =  scaler.fit_transform(data_test)"
      ]
    },
    {
      "cell_type": "code",
      "execution_count": 26,
      "id": "536de9d0-2cc7-41dd-b500-affd3e3fec9d",
      "metadata": {
        "id": "536de9d0-2cc7-41dd-b500-affd3e3fec9d"
      },
      "outputs": [],
      "source": [
        "x = []\n",
        "y = []\n",
        "\n",
        "for i in range(100, data_test_scale.shape[0]):\n",
        "    x.append(data_test_scale[i-100:i])\n",
        "    y.append(data_test_scale[i,0])\n",
        "x, y = np.array(x), np.array(y)"
      ]
    },
    {
      "cell_type": "code",
      "execution_count": 27,
      "id": "4602f57f-8832-4bf6-a50e-bb5164ff7872",
      "metadata": {
        "colab": {
          "base_uri": "https://localhost:8080/"
        },
        "id": "4602f57f-8832-4bf6-a50e-bb5164ff7872",
        "outputId": "bb12cbf3-236b-4aa7-90eb-3af94b5834e6"
      },
      "outputs": [
        {
          "output_type": "stream",
          "name": "stdout",
          "text": [
            "\u001b[1m18/18\u001b[0m \u001b[32m━━━━━━━━━━━━━━━━━━━━\u001b[0m\u001b[37m\u001b[0m \u001b[1m3s\u001b[0m 164ms/step\n"
          ]
        }
      ],
      "source": [
        "y_predict = model.predict(x)"
      ]
    },
    {
      "cell_type": "code",
      "execution_count": 28,
      "id": "ca2d2d64-b69a-4eb3-b4f6-5356bfb5b74a",
      "metadata": {
        "id": "ca2d2d64-b69a-4eb3-b4f6-5356bfb5b74a"
      },
      "outputs": [],
      "source": [
        "scale =1/scaler.scale_"
      ]
    },
    {
      "cell_type": "code",
      "execution_count": 29,
      "id": "b3e3794a-785d-4ac8-96a3-70fab6259f1c",
      "metadata": {
        "id": "b3e3794a-785d-4ac8-96a3-70fab6259f1c"
      },
      "outputs": [],
      "source": [
        "y_predict = y_predict*scale"
      ]
    },
    {
      "cell_type": "code",
      "execution_count": 30,
      "id": "5acb458b-7488-4860-9ccd-8999d67510f7",
      "metadata": {
        "id": "5acb458b-7488-4860-9ccd-8999d67510f7"
      },
      "outputs": [],
      "source": [
        "y = y*scale"
      ]
    },
    {
      "cell_type": "code",
      "execution_count": 31,
      "id": "6ab280be-9494-4ea1-baf2-45fc38130366",
      "metadata": {
        "colab": {
          "base_uri": "https://localhost:8080/",
          "height": 696
        },
        "id": "6ab280be-9494-4ea1-baf2-45fc38130366",
        "outputId": "887de0f0-6b4d-4240-a8a0-d230e7890898"
      },
      "outputs": [
        {
          "output_type": "display_data",
          "data": {
            "text/plain": [
              "<Figure size 1000x800 with 1 Axes>"
            ],
            "image/png": "[encoded data removed]"
          },
          "metadata": {}
        }
      ],
      "source": [
        "plt.figure(figsize=(10,8))\n",
        "plt.plot(y_predict, 'r', label = 'Predicted Price')\n",
        "plt.plot(y, 'g', label = 'Original Price')\n",
        "plt.xlabel('Time')\n",
        "plt.ylabel('Price')\n",
        "plt.legend()\n",
        "plt.show()"
      ]
    },
    {
      "cell_type": "code",
      "execution_count": 32,
      "id": "22143940-722e-4c05-8b46-d2f7d9abb882",
      "metadata": {
        "id": "22143940-722e-4c05-8b46-d2f7d9abb882"
      },
      "outputs": [],
      "source": [
        "model.save('Stock Predictions Model.keras')"
      ]
    },
    {
      "cell_type": "code",
      "execution_count": null,
      "id": "bd3bc001-da88-44ba-85d1-9b72ebfde3a6",
      "metadata": {
        "id": "bd3bc001-da88-44ba-85d1-9b72ebfde3a6"
      },
      "outputs": [],
      "source": []
    }
  ],
  "metadata": {
    "kernelspec": {
      "display_name": "Python 3 (ipykernel)",
      "language": "python",
      "name": "python3"
    },
    "language_info": {
      "codemirror_mode": {
        "name": "ipython",
        "version": 3
      },
      "file_extension": ".py",
      "mimetype": "text/x-python",
      "name": "python",
      "nbconvert_exporter": "python",
      "pygments_lexer": "ipython3",
      "version": "3.11.5"
    },
    "colab": {
      "provenance": [],
      "include_colab_link": true
    }
  },
  "nbformat": 4,
  "nbformat_minor": 5
}